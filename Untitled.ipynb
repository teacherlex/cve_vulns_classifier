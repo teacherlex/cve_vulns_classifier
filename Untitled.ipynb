{
 "cells": [
  {
   "cell_type": "code",
   "execution_count": 2,
   "metadata": {
    "collapsed": false
   },
   "outputs": [
    {
     "name": "stdout",
     "output_type": "stream",
     "text": [
      "[[0.         0.         0.         0.70710678 0.         0.\n",
      "  0.         0.         0.         0.70710678]]\n",
      "[[0.         0.         0.         0.70710678 0.         0.\n",
      "  0.         0.         0.         0.70710678]]\n",
      "[[ 0.  -0.5  0.   0.5  0.  -0.5  0.   0.   0.   0.5]]\n"
     ]
    }
   ],
   "source": [
    "from sklearn.feature_extraction.text import HashingVectorizer\n",
    "# list of text documents\n",
    "text = [\"Before I got married I had six theories about bringing up children; now I have six children and no theories.\"]\n",
    "# create the transform\n",
    "vectorizer = HashingVectorizer(n_features=10)\n",
    "print(vectorizer.transform([\"I got married.\"]).toarray())\n",
    "print(vectorizer.transform([\"Married, I got.\"]).toarray())\n",
    "print(vectorizer.transform([\"Married, I got on Monday.\"]).toarray())"
   ]
  },
  {
   "cell_type": "code",
   "execution_count": 3,
   "metadata": {
    "collapsed": false
   },
   "outputs": [
    {
     "name": "stderr",
     "output_type": "stream",
     "text": [
      "Using TensorFlow backend.\n"
     ]
    },
    {
     "name": "stdout",
     "output_type": "stream",
     "text": [
      "14\n",
      "[5, 3, 16, 1, 5, 11, 10, 4, 5, 10, 9, 13, 3, 15, 14]\n"
     ]
    }
   ],
   "source": [
    "from keras.preprocessing.text import hashing_trick\n",
    "from keras.preprocessing.text import text_to_word_sequence\n",
    "# define the document\n",
    "text = 'An essential component of an artist’s toolkit, we have vastly improved our visual effects features.'\n",
    "# estimate the size of the vocabulary\n",
    "words = set(text_to_word_sequence(text))\n",
    "vocab_size = len(words)\n",
    "print(vocab_size)\n",
    "# integer encode the document\n",
    "result = hashing_trick(text, round(vocab_size*1.3), hash_function='md5')\n",
    "print(result)"
   ]
  },
  {
   "cell_type": "code",
   "execution_count": 5,
   "metadata": {
    "collapsed": false
   },
   "outputs": [
    {
     "name": "stdout",
     "output_type": "stream",
     "text": [
      "OrderedDict([('the', 2), ('time', 4), ('is', 3), ('now', 1), ('life', 2), ('all', 2), ('will', 1), ('be', 1), ('well', 1), ('in', 1), ('essence', 1), ('of', 1)])\n",
      "5\n",
      "{'time': 1, 'is': 2, 'the': 3, 'life': 4, 'all': 5, 'now': 6, 'will': 7, 'be': 8, 'well': 9, 'in': 10, 'essence': 11, 'of': 12}\n",
      "{'now': 1, 'the': 2, 'is': 3, 'time': 4, 'life': 2, 'well': 1, 'will': 1, 'be': 1, 'all': 2, 'in': 1, 'of': 1, 'essence': 1}\n",
      "[[0. 1. 1. 1. 0. 0. 1. 0. 0. 0. 0. 0. 0.]\n",
      " [0. 1. 1. 0. 1. 0. 0. 0. 0. 0. 0. 0. 0.]\n",
      " [0. 0. 0. 0. 0. 1. 0. 1. 1. 1. 0. 0. 0.]\n",
      " [0. 1. 0. 0. 0. 1. 0. 0. 0. 0. 1. 0. 0.]\n",
      " [0. 1. 1. 1. 1. 0. 0. 0. 0. 0. 0. 1. 1.]]\n"
     ]
    }
   ],
   "source": [
    "from keras.preprocessing.text import Tokenizer\n",
    "# define 5 documents\n",
    "docs = ['The time is now',\n",
    "        'Time is life',\n",
    "        'All will be well',\n",
    "        'All in time',\n",
    "        'Life is the essence of time.']\n",
    " \n",
    "# create the tokenizer\n",
    "t = Tokenizer()\n",
    "# fit the tokenizer on the documents\n",
    "t.fit_on_texts(docs)\n",
    "# summarize what was learned\n",
    "print(t.word_counts)\n",
    "print(t.document_count)\n",
    "print(t.word_index)\n",
    "print(t.word_docs)\n",
    "# integer encode documents\n",
    "encoded_docs = t.texts_to_matrix(docs, mode='count')\n",
    "print(encoded_docs)\n",
    " "
   ]
  },
  {
   "cell_type": "code",
   "execution_count": null,
   "metadata": {
    "collapsed": true
   },
   "outputs": [],
   "source": []
  }
 ],
 "metadata": {
  "kernelspec": {
   "display_name": "Python 3",
   "language": "python",
   "name": "python3"
  },
  "language_info": {
   "codemirror_mode": {
    "name": "ipython",
    "version": 3
   },
   "file_extension": ".py",
   "mimetype": "text/x-python",
   "name": "python",
   "nbconvert_exporter": "python",
   "pygments_lexer": "ipython3",
   "version": "3.6.0"
  }
 },
 "nbformat": 4,
 "nbformat_minor": 2
}
